{
 "cells": [
  {
   "cell_type": "markdown",
   "id": "27a05433",
   "metadata": {},
   "source": [
    "### Libraries and Definitons"
   ]
  },
  {
   "cell_type": "code",
   "execution_count": 27,
   "id": "1324c9fe",
   "metadata": {},
   "outputs": [],
   "source": [
    "import os\n",
    "import time\n",
    "import pynq\n",
    "\n",
    "def set_vio(vio_1, vio_2):\n",
    "    #Voltage divider before VFB1, VFB2\n",
    "    R1 = 22   #R119, R125 \n",
    "    R2 = 24.9 #R120, R126\n",
    "    \n",
    "    vio_min = 0.6 * (R1 + R2) / R2   \n",
    "    vio_max = 1.87 * (R1 + R2) / R2\n",
    "    \n",
    "    if vio_1 != 0 and (vio_1 < vio_min or vio_1 > vio_max):\n",
    "        print(f\"VIO 1 out of range. Accepted values 0 and [{vio_min:.2f}, {vio_max:.2f}].\")\n",
    "        return\n",
    "    \n",
    "    if vio_2 != 0 and (vio_2 < vio_min or vio_2 > vio_max):\n",
    "        print(f\"VIO 2 out of range. Accepted values 0 and [{vio_min:.2f}, {vio_max:.2f}].\")\n",
    "        return  \n",
    "    \n",
    "    vio_1_en = vio_1 != 0\n",
    "    vio_2_en = vio_2 != 0\n",
    "    vio_1_mio = 0\n",
    "    vio_2_mio = 7 \n",
    "    \n",
    "    if vio_1_en:\n",
    "        vref = int((vio_1 * R2 / (R1 + R2) - 0.6) / 0.01)\n",
    "        os.system(\"i2cset -y 0 0x6a 0x0 0x0\")      #TPS65400 set PAGE to 0 \n",
    "        os.system(\"i2cset -y 0 0x6a 0x10 0x20\")    #TPS65400 set WRITE_PROTECT to 0x20 \n",
    "        os.system(f\"i2cset -y 0 0x6a 0xd8 {vref}\") #TPS65400 set VREF\n",
    "        \n",
    "    if vio_2_en:\n",
    "        vref = int((vio_2 * R2 / (R1 + R2) - 0.6) / 0.01)\n",
    "        os.system(\"i2cset -y 0 0x6a 0x0 0x1\")      #TPS65400 set PAGE to 1 \n",
    "        os.system(\"i2cset -y 0 0x6a 0x10 0x20\")    #TPS65400 set WRITE_PROTECT to 0x20 \n",
    "        os.system(f\"i2cset -y 0 0x6a 0xd8 {vref}\") #TPS65400 set VREF\n",
    "\n",
    "    #GPIO_RST_CTRL (enable GPIO clk logic reset)\n",
    "    reg = pynq.mmio.MMIO(base_addr=0xF800022C, length=4)\n",
    "    reg.write(0x0, 1)\n",
    "\n",
    "    #APER_CLK_CTRL (enable GPIO AMBA Clock)\n",
    "    reg = pynq.mmio.MMIO(base_addr=0xF800012C, length=4)\n",
    "    mask = ~(1 << 22)\n",
    "    data = (reg.read() & mask) | (1 << 22)\n",
    "    reg.write(0x0, data)\n",
    "\n",
    "    #GPIO_RST_CTRL (disable GPIO clk logic reset)\n",
    "    reg = pynq.mmio.MMIO(base_addr=0xF800022C, length=4)\n",
    "    reg.write(0x0, 0)\n",
    "\n",
    "    #MIO_PIN_00 (use GPIO and CMOS_33)\n",
    "    addr = 0xF8000700\n",
    "    reg = pynq.mmio.MMIO(base_addr=addr, length=4)\n",
    "    data = 0x3 << 9\n",
    "    reg.write(0x0, data)\n",
    "\n",
    "    #MIO_PIN_07 (use GPIO and CMOS_33)\n",
    "    addr=0xF800071C\n",
    "    reg = pynq.mmio.MMIO(base_addr=addr, length=4)\n",
    "    data = 0x3 << 9\n",
    "    reg.write(0x0, data)\n",
    "\n",
    "    #XGPIOPS_DIRM_OFFSET (GPIO direction)\n",
    "    addr = 0xE000A204\n",
    "    reg = pynq.mmio.MMIO(base_addr=addr, length=4)\n",
    "    mask = ~((1 << vio_1_mio ) | (1 << vio_2_mio))\n",
    "    data = (reg.read() & mask) | (1 << vio_1_mio ) | (1 << vio_2_mio)\n",
    "    reg.write(0x0, data)\n",
    "\n",
    "    #XGPIOPS_OUTEN_OFFSET (GPIO output enbale)\n",
    "    addr = 0xE000A208\n",
    "    reg = pynq.mmio.MMIO(base_addr=addr, length=4)\n",
    "    mask = ~((1 << vio_1_mio ) | (1 << vio_2_mio))\n",
    "    data = (reg.read() & mask) | (1 << vio_1_mio ) | (1 << vio_2_mio)\n",
    "    reg.write(0x0, data)\n",
    "\n",
    "    #XGPIOPS_DATA_LSW_OFFSET (GPIO value)\n",
    "    addr = 0xE000A000\n",
    "    reg = pynq.mmio.MMIO(base_addr=addr, length=4)\n",
    "    mask = 0xffff ^ ((1 << vio_1_mio ) | (1 << vio_2_mio))\n",
    "    data = (mask << 16) | (vio_1_en << vio_1_mio ) | (vio_2_en << vio_2_mio)\n",
    "    reg.write(0x0, data)\n"
   ]
  },
  {
   "cell_type": "markdown",
   "id": "de46ccd0",
   "metadata": {},
   "source": [
    "### Set VIO voltages"
   ]
  },
  {
   "cell_type": "code",
   "execution_count": 54,
   "id": "e3032d4c",
   "metadata": {},
   "outputs": [],
   "source": [
    "set_vio(vio_1=3.3, vio_2=3.3)"
   ]
  },
  {
   "cell_type": "markdown",
   "id": "a8f0f7be",
   "metadata": {},
   "source": [
    "### Load Overlay"
   ]
  },
  {
   "cell_type": "code",
   "execution_count": null,
   "id": "5578f26a",
   "metadata": {},
   "outputs": [],
   "source": [
    "ol = pynq.Overlay(\"base.bit\")"
   ]
  },
  {
   "cell_type": "markdown",
   "id": "a980c727",
   "metadata": {},
   "source": [
    "### Blink LEDs"
   ]
  },
  {
   "cell_type": "code",
   "execution_count": 21,
   "id": "4317b10d",
   "metadata": {},
   "outputs": [],
   "source": [
    "for i in range(8):\n",
    "    ol.axi_gpio_0.channel1.write(val=(1<<i), mask=0xff)\n",
    "    time.sleep(0.5)"
   ]
  }
 ],
 "metadata": {
  "kernelspec": {
   "display_name": "Python 3 (ipykernel)",
   "language": "python",
   "name": "python3"
  },
  "language_info": {
   "codemirror_mode": {
    "name": "ipython",
    "version": 3
   },
   "file_extension": ".py",
   "mimetype": "text/x-python",
   "name": "python",
   "nbconvert_exporter": "python",
   "pygments_lexer": "ipython3",
   "version": "3.10.4"
  }
 },
 "nbformat": 4,
 "nbformat_minor": 5
}
